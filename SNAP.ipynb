{
  "nbformat": 4,
  "nbformat_minor": 0,
  "metadata": {
    "colab": {
      "name": "SNAP.ipynb",
      "provenance": [],
      "collapsed_sections": [
        "bNhkpuUmmjoD",
        "bSk-28CEatKh"
      ]
    },
    "kernelspec": {
      "name": "python3",
      "display_name": "Python 3"
    },
    "language_info": {
      "name": "python"
    },
    "accelerator": "GPU"
  },
  "cells": [
    {
      "cell_type": "markdown",
      "metadata": {
        "id": "_iwy7Bq5a4BJ"
      },
      "source": [
        "## IMPORTS"
      ]
    },
    {
      "cell_type": "code",
      "metadata": {
        "id": "A7FMKwEpaqNw"
      },
      "source": [
        "import tensorflow as tf\n",
        "import numpy as np\n",
        "import cv2 as cv\n",
        "from sklearn.pipeline import Pipeline\n",
        "from sklearn.base import BaseEstimator, TransformerMixin"
      ],
      "execution_count": 2,
      "outputs": []
    },
    {
      "cell_type": "markdown",
      "metadata": {
        "id": "bNhkpuUmmjoD"
      },
      "source": [
        "## PIPELINE"
      ]
    },
    {
      "cell_type": "code",
      "metadata": {
        "id": "HVL2YIxYmn_b"
      },
      "source": [
        "class Resizer(BaseEstimator, TransformerMixin):\n",
        "    def __init__(self,scale_factor=0.5):\n",
        "        self.scale_factor = scale_factor\n",
        "\n",
        "    def fit(self, X, y=None):\n",
        "        return self # nothing to do\n",
        "    \n",
        "    def transform(self, X, y=None):\n",
        "        _,w,h,_ = X.shape\n",
        "        target_size = (int(w*self.scale_factor),int(h*self.scale_factor))\n",
        "        return tf.image.resize(X, target_size)\n",
        "\n",
        "class ImageNormalization(BaseEstimator, TransformerMixin):\n",
        "    def fit(self, X, y=None):\n",
        "        return self # nothing to do\n",
        "    \n",
        "    def transform(self, X, y=None):\n",
        "        return X/255.0\n",
        "\n",
        "\n",
        "pipe = Pipeline([\n",
        "        ('resizer',Resizer()),\n",
        "        ('normalization',ImageNormalization())\n",
        "    ])"
      ],
      "execution_count": 3,
      "outputs": []
    },
    {
      "cell_type": "markdown",
      "metadata": {
        "id": "bSk-28CEatKh"
      },
      "source": [
        "## DATA GENERATOR"
      ]
    },
    {
      "cell_type": "code",
      "metadata": {
        "id": "J3QhhYyNFTYL"
      },
      "source": [
        "IMAGE_SHAPE = (1080, 1920, 3)\n",
        "PINK_CONTINUES = ((100,20,100),(255,105,180))\n",
        "PINK_DISCRETE = (255,102,204) \n",
        "SEED_RANGE = (0, np.iinfo(np.int32).max)\n",
        "RANGE_SIZE = {\"main\":(80,250),\"scatter\":(5,25)}\n",
        "NOISE_COLORS = ((0,0,0),(0,0,255),(0,255,00),(255,0,0))\n",
        " \n",
        "    \n",
        "def generator(samples):\n",
        "    # defining an empty dataset \n",
        "    #w,h,c = IMAGE_SHAPE\n",
        "    #x_samples = np.zeros(shape=(w,h,c,samples))\n",
        "    #y_samples = x_samples.copy()    \n",
        "    # figures and noises attributes\n",
        "    fig_len,noises_len = len(FIGURES),len(NOISES)\n",
        "    fig_list,noises_list = list(FIGURES.keys()), list(NOISES.keys())\n",
        "    for i in range(samples):\n",
        "        # selecting functions\n",
        "        figure = FIGURES[fig_list[i % fig_len]]    \n",
        "        noise = NOISES[noises_list[i % noises_len]]\n",
        "        # making samples\n",
        "        #x_samples[:,:,:,i], y_samples[:,:,:,i] = make_sample(figure,noise,PINK_DISCRETE)\n",
        "        x,y = make_sample(figure,noise,PINK_DISCRETE) \n",
        "        save_image(x,\"./drive/MyDrive/SNAP_Data/x/\"+str(i)+\".png\")\n",
        "        save_image(y,\"./drive/MyDrive/SNAP_Data/y/\"+str(i)+\".png\")\n",
        "        if i % 100 == 0 and i != 0:\n",
        "          print(\"[{}/{}] Reamining Images: {}\".format(i/100,samples/100,samples-i))\n",
        "        \n",
        "\n",
        "def make_sample(figure,noise,main_color,background_color=(255,255,255)):\n",
        "    x = np.zeros(shape=IMAGE_SHAPE) + background_color\n",
        "    y = x.copy()\n",
        "    \n",
        "    # adding figures with main_color to 'x' frame.\n",
        "    for _ in range(np.random.randint(3,15)):\n",
        "        x = figure(x,main_color,RANGE_SIZE[\"main\"])\n",
        "\n",
        "    # adding same frames's noise\n",
        "    seed = np.random.randint(*SEED_RANGE)\n",
        "    x = noise(x,seed)\n",
        "    y = noise(y,seed)\n",
        "    return x,y\n",
        "\n",
        "\n",
        "# defining noise functions\n",
        "def add_scatter_noise(image,seed):\n",
        "    set_seed(seed)\n",
        "    for i in range(np.random.randint(10,50)):\n",
        "        color = NOISE_COLORS[np.random.randint(0,len(NOISE_COLORS))]\n",
        "        image = add_circle(image,color,RANGE_SIZE[\"scatter\"])\n",
        "        image = add_rectangle(image,color,RANGE_SIZE[\"scatter\"])\n",
        "    return image\n",
        "\n",
        "# defining figure functions\n",
        "def add_circle(image,color,range_size):\n",
        "    radius = np.random.randint(*range_size)\n",
        "    coords = ( np.random.randint(0,IMAGE_SHAPE[1]), np.random.randint(0,IMAGE_SHAPE[0]) )\n",
        "    return cv.circle(image,coords, radius, color, -1)\n",
        "\n",
        "def add_rectangle(image,color,range_size):\n",
        "    x,y = np.random.randint(*range_size,size=2) \n",
        "    start_p = ( np.random.randint(0,IMAGE_SHAPE[1]) - x , np.random.randint(0,IMAGE_SHAPE[0]) - y )\n",
        "    end_p = (start_p[0] + x, start_p[1] + y )\n",
        "    return cv.rectangle(image, start_p, end_p, color, -1)\n",
        "\n",
        "def add_mix_figures(image,color,range_size):\n",
        "    image = add_circle(image,color,range_size)\n",
        "    image = add_rectangle(image,color,range_size)\n",
        "    return image\n",
        "\n",
        "# set numpy random seed\n",
        "def set_seed(seed):\n",
        "    np.random.seed(seed if seed else np.random.randint(*SEED_RANGE))\n",
        "\n",
        "# get a random color `inside` of pink range\n",
        "def get_inner_color():\n",
        "    bottom_c, top_c = PINK_CONTINUES \n",
        "    r,g,b = [ np.random.randint(bottom_c[i],top_c[i]) for i in range(3) ]\n",
        "    return (r,g,b)\n",
        "\n",
        "# get a random color `outside` of pink range\n",
        "def get_outer_color():\n",
        "    i = np.random.randint(0,2)\n",
        "    color_range = PINK_CONTINUES[i]\n",
        "    color_limit = (i*254, i*254, i*254)\n",
        "    r,g,b = [ sorted([color_limit[i],color_range[i]]) for i in range(3) ] \n",
        "    r,g,b = np.random.randint(*r), np.random.randint(*g), np.random.randint(*b)\n",
        "    return (r,g,b)\n",
        "\n",
        "FIGURES = {\"rectangle\":add_rectangle,\n",
        "           \"circle\":add_circle,\n",
        "           \"mix\":add_mix_figures}\n",
        "\n",
        "NOISES = {\"nothing\":(lambda image,*args,**kwargs: image),\n",
        "          \"scatter\":add_scatter_noise}\n",
        "        "
      ],
      "execution_count": 4,
      "outputs": []
    },
    {
      "cell_type": "code",
      "metadata": {
        "id": "lkB2H2_EF2Ee"
      },
      "source": [
        "import matplotlib.pyplot as plt\n",
        "from matplotlib.image import imsave\n",
        "\n",
        "def show_image(image):\n",
        "    plt.imshow(image)\n",
        "    plt.show()\n",
        "\n",
        "def save_image(image,path_name):\n",
        "    imsave(path_name, image)"
      ],
      "execution_count": 61,
      "outputs": []
    },
    {
      "cell_type": "code",
      "metadata": {
        "id": "eF8mWw80bhmA"
      },
      "source": [
        "def load_dataset(samples:int):\n",
        "    x = np.zeros(shape=(samples,*IMAGE_SHAPE))\n",
        "    y = np.zeros(shape=(samples,*IMAGE_SHAPE))\n",
        "    for i in range(samples):\n",
        "        x[i,:,:,:] = cv.imread(f\"/content/drive/MyDrive/SNAP_Data/x/{i}.png\")\n",
        "        y[i,:,:,:] = cv.imread(f\"/content/drive/MyDrive/SNAP_Data/y/{i}.png\")\n",
        "\n",
        "    # splitting train set\n",
        "    x_train = x[:int((len(x))*0.9)]\n",
        "    y_train = y[:int((len(y))*0.9)]\n",
        "    # splitting test set\n",
        "    x_test = x[int((len(x))*0.9):]\n",
        "    y_test = y[int((len(y))*0.9):]\n",
        "    return (x_train,y_train),(x_test,y_test)"
      ],
      "execution_count": 6,
      "outputs": []
    },
    {
      "cell_type": "markdown",
      "metadata": {
        "id": "tmrXM294ayOd"
      },
      "source": [
        "## MODEL ARCHITECTURE DEFINITION"
      ]
    },
    {
      "cell_type": "code",
      "metadata": {
        "id": "MF8p7BCyaKg8"
      },
      "source": [
        "class CAE(tf.keras.Model):\n",
        "    \"\"\"Convolutional variational autoencoder.\"\"\"\n",
        "    def __init__(self):\n",
        "        super(CAE, self).__init__()\n",
        "        self.encoder = tf.keras.Sequential([\n",
        "                tf.keras.layers.Input(shape=(540, 960, 3)),\n",
        "                tf.keras.layers.Conv2D( \n",
        "                    filters=32, kernel_size=3, strides=(2, 2), activation='relu',padding='same'),\n",
        "                #tf.keras.layers.MaxPooling2D(padding='same'),\n",
        "                #tf.keras.layers.BatchNormalization(),\n",
        "                tf.keras.layers.Conv2D(\n",
        "                    filters=32, kernel_size=3, strides=(2, 2), activation='relu',padding='same'),\n",
        "                #tf.keras.layers.MaxPooling2D(padding='same'),\n",
        "                #tf.keras.layers.BatchNormalization(),\n",
        "                ])\n",
        "        \n",
        "        self.decoder = tf.keras.Sequential([\n",
        "                tf.keras.layers.Conv2DTranspose(\n",
        "                    filters=32, kernel_size=3, strides=2, padding='same',\n",
        "                    activation='relu'),\n",
        "                tf.keras.layers.Conv2DTranspose(\n",
        "                    filters=64, kernel_size=3, strides=2, padding='same',\n",
        "                    activation='relu'),\n",
        "                tf.keras.layers.Conv2D(\n",
        "                    filters=3, kernel_size=3, strides=1, padding='same'),\n",
        "                ])\n",
        "        \n",
        "    def call(self, x):\n",
        "        encoded = self.encoder(x)\n",
        "        decoded = self.decoder(encoded)\n",
        "        return decoded\n",
        "\n",
        "autoencoder = CAE()\n",
        "autoencoder.compile(optimizer='adam', loss=tf.keras.losses.MeanSquaredError())"
      ],
      "execution_count": 108,
      "outputs": []
    },
    {
      "cell_type": "markdown",
      "metadata": {
        "id": "pgboo5ZY01Q6"
      },
      "source": [
        "## Gathering & fixing data"
      ]
    },
    {
      "cell_type": "code",
      "metadata": {
        "id": "CQqxAOkSbFPK"
      },
      "source": [
        "(x_train,y_train),(x_test,y_test) = load_dataset(30)\n",
        "x_train = pipe.fit_transform(x_train)\n",
        "y_train = pipe.transform(y_train)\n",
        "x_test = pipe.transform(x_test)\n",
        "y_test = pipe.transform(y_test)"
      ],
      "execution_count": 122,
      "outputs": []
    },
    {
      "cell_type": "markdown",
      "metadata": {
        "id": "_dWPEHWq1Fss"
      },
      "source": [
        "## Training model"
      ]
    },
    {
      "cell_type": "code",
      "metadata": {
        "colab": {
          "base_uri": "https://localhost:8080/"
        },
        "id": "-A4SYl-8mSTf",
        "outputId": "7ca7dda9-40c4-4a6b-e177-fc85413b874d"
      },
      "source": [
        "autoencoder.fit(x_train,y_train,\n",
        "                epochs=50,\n",
        "                shuffle=True,\n",
        "                validation_data=(x_test, y_test))"
      ],
      "execution_count": 120,
      "outputs": [
        {
          "output_type": "stream",
          "text": [
            "Epoch 1/50\n",
            "1/1 [==============================] - 1s 1s/step - loss: 8.8235e-04 - val_loss: 0.0011\n",
            "Epoch 2/50\n",
            "1/1 [==============================] - 1s 1s/step - loss: 8.8104e-04 - val_loss: 0.0011\n",
            "Epoch 3/50\n",
            "1/1 [==============================] - 1s 1s/step - loss: 8.8172e-04 - val_loss: 0.0011\n",
            "Epoch 4/50\n",
            "1/1 [==============================] - 1s 1s/step - loss: 8.7854e-04 - val_loss: 0.0011\n",
            "Epoch 5/50\n",
            "1/1 [==============================] - 1s 1s/step - loss: 8.7078e-04 - val_loss: 0.0011\n",
            "Epoch 6/50\n",
            "1/1 [==============================] - 1s 1s/step - loss: 8.6403e-04 - val_loss: 0.0011\n",
            "Epoch 7/50\n",
            "1/1 [==============================] - 1s 1s/step - loss: 8.6043e-04 - val_loss: 0.0011\n",
            "Epoch 8/50\n",
            "1/1 [==============================] - 1s 1s/step - loss: 8.5906e-04 - val_loss: 0.0011\n",
            "Epoch 9/50\n",
            "1/1 [==============================] - 1s 1s/step - loss: 8.5745e-04 - val_loss: 0.0011\n",
            "Epoch 10/50\n",
            "1/1 [==============================] - 1s 1s/step - loss: 8.5352e-04 - val_loss: 0.0011\n",
            "Epoch 11/50\n",
            "1/1 [==============================] - 1s 1s/step - loss: 8.4802e-04 - val_loss: 0.0011\n",
            "Epoch 12/50\n",
            "1/1 [==============================] - 1s 1s/step - loss: 8.4266e-04 - val_loss: 0.0011\n",
            "Epoch 13/50\n",
            "1/1 [==============================] - 1s 1s/step - loss: 8.3882e-04 - val_loss: 0.0011\n",
            "Epoch 14/50\n",
            "1/1 [==============================] - 1s 1s/step - loss: 8.3644e-04 - val_loss: 0.0011\n",
            "Epoch 15/50\n",
            "1/1 [==============================] - 1s 1s/step - loss: 8.3362e-04 - val_loss: 0.0011\n",
            "Epoch 16/50\n",
            "1/1 [==============================] - 1s 1s/step - loss: 8.2939e-04 - val_loss: 0.0011\n",
            "Epoch 17/50\n",
            "1/1 [==============================] - 1s 1s/step - loss: 8.2519e-04 - val_loss: 0.0011\n",
            "Epoch 18/50\n",
            "1/1 [==============================] - 1s 1s/step - loss: 8.2225e-04 - val_loss: 0.0011\n",
            "Epoch 19/50\n",
            "1/1 [==============================] - 1s 1s/step - loss: 8.1971e-04 - val_loss: 0.0011\n",
            "Epoch 20/50\n",
            "1/1 [==============================] - 1s 1s/step - loss: 8.1630e-04 - val_loss: 0.0011\n",
            "Epoch 21/50\n",
            "1/1 [==============================] - 1s 1s/step - loss: 8.1256e-04 - val_loss: 0.0010\n",
            "Epoch 22/50\n",
            "1/1 [==============================] - 1s 1s/step - loss: 8.0887e-04 - val_loss: 0.0010\n",
            "Epoch 23/50\n",
            "1/1 [==============================] - 1s 1s/step - loss: 8.0574e-04 - val_loss: 0.0010\n",
            "Epoch 24/50\n",
            "1/1 [==============================] - 1s 1s/step - loss: 8.0295e-04 - val_loss: 0.0010\n",
            "Epoch 25/50\n",
            "1/1 [==============================] - 1s 1s/step - loss: 7.9985e-04 - val_loss: 0.0010\n",
            "Epoch 26/50\n",
            "1/1 [==============================] - 1s 1s/step - loss: 7.9643e-04 - val_loss: 0.0010\n",
            "Epoch 27/50\n",
            "1/1 [==============================] - 1s 1s/step - loss: 7.9310e-04 - val_loss: 0.0010\n",
            "Epoch 28/50\n",
            "1/1 [==============================] - 1s 1s/step - loss: 7.9009e-04 - val_loss: 0.0010\n",
            "Epoch 29/50\n",
            "1/1 [==============================] - 1s 1s/step - loss: 7.8729e-04 - val_loss: 0.0010\n",
            "Epoch 30/50\n",
            "1/1 [==============================] - 1s 1s/step - loss: 7.8433e-04 - val_loss: 0.0010\n",
            "Epoch 31/50\n",
            "1/1 [==============================] - 1s 1s/step - loss: 7.8113e-04 - val_loss: 0.0010\n",
            "Epoch 32/50\n",
            "1/1 [==============================] - 1s 1s/step - loss: 7.7795e-04 - val_loss: 0.0010\n",
            "Epoch 33/50\n",
            "1/1 [==============================] - 1s 1s/step - loss: 7.7504e-04 - val_loss: 0.0010\n",
            "Epoch 34/50\n",
            "1/1 [==============================] - 1s 1s/step - loss: 7.7228e-04 - val_loss: 9.9920e-04\n",
            "Epoch 35/50\n",
            "1/1 [==============================] - 1s 1s/step - loss: 7.6948e-04 - val_loss: 9.9554e-04\n",
            "Epoch 36/50\n",
            "1/1 [==============================] - 1s 1s/step - loss: 7.6659e-04 - val_loss: 9.9175e-04\n",
            "Epoch 37/50\n",
            "1/1 [==============================] - 1s 1s/step - loss: 7.6362e-04 - val_loss: 9.8808e-04\n",
            "Epoch 38/50\n",
            "1/1 [==============================] - 1s 1s/step - loss: 7.6068e-04 - val_loss: 9.8452e-04\n",
            "Epoch 39/50\n",
            "1/1 [==============================] - 1s 1s/step - loss: 7.5785e-04 - val_loss: 9.8100e-04\n",
            "Epoch 40/50\n",
            "1/1 [==============================] - 1s 1s/step - loss: 7.5507e-04 - val_loss: 9.7759e-04\n",
            "Epoch 41/50\n",
            "1/1 [==============================] - 1s 1s/step - loss: 7.5236e-04 - val_loss: 9.7412e-04\n",
            "Epoch 42/50\n",
            "1/1 [==============================] - 1s 1s/step - loss: 7.4963e-04 - val_loss: 9.7066e-04\n",
            "Epoch 43/50\n",
            "1/1 [==============================] - 1s 1s/step - loss: 7.4687e-04 - val_loss: 9.6716e-04\n",
            "Epoch 44/50\n",
            "1/1 [==============================] - 1s 1s/step - loss: 7.4412e-04 - val_loss: 9.6369e-04\n",
            "Epoch 45/50\n",
            "1/1 [==============================] - 1s 1s/step - loss: 7.4139e-04 - val_loss: 9.6027e-04\n",
            "Epoch 46/50\n",
            "1/1 [==============================] - 1s 1s/step - loss: 7.3870e-04 - val_loss: 9.5690e-04\n",
            "Epoch 47/50\n",
            "1/1 [==============================] - 1s 1s/step - loss: 7.3606e-04 - val_loss: 9.5374e-04\n",
            "Epoch 48/50\n",
            "1/1 [==============================] - 1s 1s/step - loss: 7.3357e-04 - val_loss: 9.5043e-04\n",
            "Epoch 49/50\n",
            "1/1 [==============================] - 1s 1s/step - loss: 7.3100e-04 - val_loss: 9.4719e-04\n",
            "Epoch 50/50\n",
            "1/1 [==============================] - 1s 1s/step - loss: 7.2847e-04 - val_loss: 9.4402e-04\n"
          ],
          "name": "stdout"
        },
        {
          "output_type": "execute_result",
          "data": {
            "text/plain": [
              "<tensorflow.python.keras.callbacks.History at 0x7fdf2e1259d0>"
            ]
          },
          "metadata": {
            "tags": []
          },
          "execution_count": 120
        }
      ]
    },
    {
      "cell_type": "code",
      "metadata": {
        "colab": {
          "base_uri": "https://localhost:8080/",
          "height": 1000
        },
        "id": "ZbJQBZV7C_Fj",
        "outputId": "036f8429-e301-4c4b-8c0c-42b7aa021678"
      },
      "source": [
        "y_pred = autoencoder.predict(x_test)\n",
        "for i in range(y_pred.shape[0]):\n",
        "  show_image(x_test[i,:,:,:])\n",
        "  show_image(y_pred[i,:,:,:])"
      ],
      "execution_count": 130,
      "outputs": [
        {
          "output_type": "display_data",
          "data": {
            "image/png": "[encoded data removed]",
            "text/plain": [
              "<Figure size 432x288 with 1 Axes>"
            ]
          },
          "metadata": {
            "tags": [],
            "needs_background": "light"
          }
        },
        {
          "output_type": "stream",
          "text": [
            "Clipping input data to the valid range for imshow with RGB data ([0..1] for floats or [0..255] for integers).\n"
          ],
          "name": "stderr"
        },
        {
          "output_type": "display_data",
          "data": {
            "image/png": "[encoded data removed]",
            "text/plain": [
              "<Figure size 432x288 with 1 Axes>"
            ]
          },
          "metadata": {
            "tags": [],
            "needs_background": "light"
          }
        },
        {
          "output_type": "display_data",
          "data": {
            "image/png": "[encoded data removed]",
            "text/plain": [
              "<Figure size 432x288 with 1 Axes>"
            ]
          },
          "metadata": {
            "tags": [],
            "needs_background": "light"
          }
        },
        {
          "output_type": "stream",
          "text": [
            "Clipping input data to the valid range for imshow with RGB data ([0..1] for floats or [0..255] for integers).\n"
          ],
          "name": "stderr"
        },
        {
          "output_type": "display_data",
          "data": {
            "image/png": "[encoded data removed]",
            "text/plain": [
              "<Figure size 432x288 with 1 Axes>"
            ]
          },
          "metadata": {
            "tags": [],
            "needs_background": "light"
          }
        },
        {
          "output_type": "display_data",
          "data": {
            "image/png": "[encoded data removed]",
            "text/plain": [
              "<Figure size 432x288 with 1 Axes>"
            ]
          },
          "metadata": {
            "tags": [],
            "needs_background": "light"
          }
        },
        {
          "output_type": "stream",
          "text": [
            "Clipping input data to the valid range for imshow with RGB data ([0..1] for floats or [0..255] for integers).\n"
          ],
          "name": "stderr"
        },
        {
          "output_type": "display_data",
          "data": {
            "image/png": "[encoded data removed]",
            "text/plain": [
              "<Figure size 432x288 with 1 Axes>"
            ]
          },
          "metadata": {
            "tags": [],
            "needs_background": "light"
          }
        }
      ]
    }
  ]
}